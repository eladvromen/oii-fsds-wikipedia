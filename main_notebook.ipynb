{
 "cells": [
  {
   "cell_type": "code",
   "execution_count": 1,
   "metadata": {},
   "outputs": [
    {
     "name": "stdout",
     "output_type": "stream",
     "text": [
      "Requirement already satisfied: asttokens==2.4.1 in c:\\users\\shil6369\\documents\\github\\oii-fsds-wikipedia\\venv\\lib\\site-packages (from -r requirements.txt (line 1)) (2.4.1)\n",
      "Requirement already satisfied: beautifulsoup4==4.12.3 in c:\\users\\shil6369\\documents\\github\\oii-fsds-wikipedia\\venv\\lib\\site-packages (from -r requirements.txt (line 2)) (4.12.3)\n",
      "Requirement already satisfied: certifi==2024.8.30 in c:\\users\\shil6369\\documents\\github\\oii-fsds-wikipedia\\venv\\lib\\site-packages (from -r requirements.txt (line 3)) (2024.8.30)\n",
      "Requirement already satisfied: chardet==3.0.4 in c:\\users\\shil6369\\documents\\github\\oii-fsds-wikipedia\\venv\\lib\\site-packages (from -r requirements.txt (line 4)) (3.0.4)\n",
      "Requirement already satisfied: charset-normalizer==3.4.0 in c:\\users\\shil6369\\documents\\github\\oii-fsds-wikipedia\\venv\\lib\\site-packages (from -r requirements.txt (line 5)) (3.4.0)\n",
      "Requirement already satisfied: click==8.1.7 in c:\\users\\shil6369\\documents\\github\\oii-fsds-wikipedia\\venv\\lib\\site-packages (from -r requirements.txt (line 6)) (8.1.7)\n",
      "Requirement already satisfied: colorama==0.4.6 in c:\\users\\shil6369\\documents\\github\\oii-fsds-wikipedia\\venv\\lib\\site-packages (from -r requirements.txt (line 7)) (0.4.6)\n",
      "Requirement already satisfied: comm==0.2.2 in c:\\users\\shil6369\\documents\\github\\oii-fsds-wikipedia\\venv\\lib\\site-packages (from -r requirements.txt (line 8)) (0.2.2)\n",
      "Requirement already satisfied: contourpy==1.3.0 in c:\\users\\shil6369\\documents\\github\\oii-fsds-wikipedia\\venv\\lib\\site-packages (from -r requirements.txt (line 9)) (1.3.0)\n",
      "Requirement already satisfied: cycler==0.12.1 in c:\\users\\shil6369\\documents\\github\\oii-fsds-wikipedia\\venv\\lib\\site-packages (from -r requirements.txt (line 10)) (0.12.1)\n",
      "Requirement already satisfied: debugpy==1.8.7 in c:\\users\\shil6369\\documents\\github\\oii-fsds-wikipedia\\venv\\lib\\site-packages (from -r requirements.txt (line 11)) (1.8.7)\n",
      "Requirement already satisfied: decorator==5.1.1 in c:\\users\\shil6369\\documents\\github\\oii-fsds-wikipedia\\venv\\lib\\site-packages (from -r requirements.txt (line 12)) (5.1.1)\n",
      "Requirement already satisfied: executing==2.1.0 in c:\\users\\shil6369\\documents\\github\\oii-fsds-wikipedia\\venv\\lib\\site-packages (from -r requirements.txt (line 13)) (2.1.0)\n",
      "Requirement already satisfied: fonttools==4.54.1 in c:\\users\\shil6369\\documents\\github\\oii-fsds-wikipedia\\venv\\lib\\site-packages (from -r requirements.txt (line 14)) (4.54.1)\n",
      "Requirement already satisfied: googletrans==4.0.0rc1 in c:\\users\\shil6369\\documents\\github\\oii-fsds-wikipedia\\venv\\lib\\site-packages (from -r requirements.txt (line 15)) (4.0.0rc1)\n",
      "Requirement already satisfied: h11==0.9.0 in c:\\users\\shil6369\\documents\\github\\oii-fsds-wikipedia\\venv\\lib\\site-packages (from -r requirements.txt (line 16)) (0.9.0)\n",
      "Requirement already satisfied: h2==3.2.0 in c:\\users\\shil6369\\documents\\github\\oii-fsds-wikipedia\\venv\\lib\\site-packages (from -r requirements.txt (line 17)) (3.2.0)\n",
      "Requirement already satisfied: hpack==3.0.0 in c:\\users\\shil6369\\documents\\github\\oii-fsds-wikipedia\\venv\\lib\\site-packages (from -r requirements.txt (line 18)) (3.0.0)\n",
      "Requirement already satisfied: hstspreload==2024.10.1 in c:\\users\\shil6369\\documents\\github\\oii-fsds-wikipedia\\venv\\lib\\site-packages (from -r requirements.txt (line 19)) (2024.10.1)\n",
      "Requirement already satisfied: httpcore==0.9.1 in c:\\users\\shil6369\\documents\\github\\oii-fsds-wikipedia\\venv\\lib\\site-packages (from -r requirements.txt (line 20)) (0.9.1)\n",
      "Requirement already satisfied: httpx==0.13.3 in c:\\users\\shil6369\\documents\\github\\oii-fsds-wikipedia\\venv\\lib\\site-packages (from -r requirements.txt (line 21)) (0.13.3)\n",
      "Requirement already satisfied: hyperframe==5.2.0 in c:\\users\\shil6369\\documents\\github\\oii-fsds-wikipedia\\venv\\lib\\site-packages (from -r requirements.txt (line 22)) (5.2.0)\n",
      "Requirement already satisfied: idna==2.10 in c:\\users\\shil6369\\documents\\github\\oii-fsds-wikipedia\\venv\\lib\\site-packages (from -r requirements.txt (line 23)) (2.10)\n",
      "Requirement already satisfied: ipykernel==6.29.5 in c:\\users\\shil6369\\documents\\github\\oii-fsds-wikipedia\\venv\\lib\\site-packages (from -r requirements.txt (line 24)) (6.29.5)\n",
      "Requirement already satisfied: ipython==8.28.0 in c:\\users\\shil6369\\documents\\github\\oii-fsds-wikipedia\\venv\\lib\\site-packages (from -r requirements.txt (line 25)) (8.28.0)\n",
      "Requirement already satisfied: jedi==0.19.1 in c:\\users\\shil6369\\documents\\github\\oii-fsds-wikipedia\\venv\\lib\\site-packages (from -r requirements.txt (line 26)) (0.19.1)\n",
      "Requirement already satisfied: joblib==1.4.2 in c:\\users\\shil6369\\documents\\github\\oii-fsds-wikipedia\\venv\\lib\\site-packages (from -r requirements.txt (line 27)) (1.4.2)\n",
      "Requirement already satisfied: jupyter_client==8.6.3 in c:\\users\\shil6369\\documents\\github\\oii-fsds-wikipedia\\venv\\lib\\site-packages (from -r requirements.txt (line 28)) (8.6.3)\n",
      "Requirement already satisfied: jupyter_core==5.7.2 in c:\\users\\shil6369\\documents\\github\\oii-fsds-wikipedia\\venv\\lib\\site-packages (from -r requirements.txt (line 29)) (5.7.2)\n",
      "Requirement already satisfied: kiwisolver==1.4.7 in c:\\users\\shil6369\\documents\\github\\oii-fsds-wikipedia\\venv\\lib\\site-packages (from -r requirements.txt (line 30)) (1.4.7)\n",
      "Requirement already satisfied: langdetect==1.0.9 in c:\\users\\shil6369\\documents\\github\\oii-fsds-wikipedia\\venv\\lib\\site-packages (from -r requirements.txt (line 31)) (1.0.9)\n",
      "Requirement already satisfied: lxml==5.3.0 in c:\\users\\shil6369\\documents\\github\\oii-fsds-wikipedia\\venv\\lib\\site-packages (from -r requirements.txt (line 32)) (5.3.0)\n",
      "Requirement already satisfied: matplotlib==3.9.2 in c:\\users\\shil6369\\documents\\github\\oii-fsds-wikipedia\\venv\\lib\\site-packages (from -r requirements.txt (line 33)) (3.9.2)\n",
      "Requirement already satisfied: matplotlib-inline==0.1.7 in c:\\users\\shil6369\\documents\\github\\oii-fsds-wikipedia\\venv\\lib\\site-packages (from -r requirements.txt (line 34)) (0.1.7)\n",
      "Requirement already satisfied: nest-asyncio==1.6.0 in c:\\users\\shil6369\\documents\\github\\oii-fsds-wikipedia\\venv\\lib\\site-packages (from -r requirements.txt (line 35)) (1.6.0)\n",
      "Requirement already satisfied: nltk==3.9.1 in c:\\users\\shil6369\\documents\\github\\oii-fsds-wikipedia\\venv\\lib\\site-packages (from -r requirements.txt (line 36)) (3.9.1)\n",
      "Requirement already satisfied: numpy==2.1.2 in c:\\users\\shil6369\\documents\\github\\oii-fsds-wikipedia\\venv\\lib\\site-packages (from -r requirements.txt (line 37)) (2.1.2)\n",
      "Requirement already satisfied: packaging==24.1 in c:\\users\\shil6369\\documents\\github\\oii-fsds-wikipedia\\venv\\lib\\site-packages (from -r requirements.txt (line 38)) (24.1)\n",
      "Requirement already satisfied: pandas==2.2.3 in c:\\users\\shil6369\\documents\\github\\oii-fsds-wikipedia\\venv\\lib\\site-packages (from -r requirements.txt (line 39)) (2.2.3)\n",
      "Requirement already satisfied: parso==0.8.4 in c:\\users\\shil6369\\documents\\github\\oii-fsds-wikipedia\\venv\\lib\\site-packages (from -r requirements.txt (line 40)) (0.8.4)\n",
      "Requirement already satisfied: pillow==11.0.0 in c:\\users\\shil6369\\documents\\github\\oii-fsds-wikipedia\\venv\\lib\\site-packages (from -r requirements.txt (line 41)) (11.0.0)\n",
      "Requirement already satisfied: platformdirs==4.3.6 in c:\\users\\shil6369\\documents\\github\\oii-fsds-wikipedia\\venv\\lib\\site-packages (from -r requirements.txt (line 42)) (4.3.6)\n",
      "Requirement already satisfied: prompt_toolkit==3.0.48 in c:\\users\\shil6369\\documents\\github\\oii-fsds-wikipedia\\venv\\lib\\site-packages (from -r requirements.txt (line 43)) (3.0.48)\n",
      "Requirement already satisfied: psutil==6.1.0 in c:\\users\\shil6369\\documents\\github\\oii-fsds-wikipedia\\venv\\lib\\site-packages (from -r requirements.txt (line 44)) (6.1.0)\n",
      "Requirement already satisfied: pure_eval==0.2.3 in c:\\users\\shil6369\\documents\\github\\oii-fsds-wikipedia\\venv\\lib\\site-packages (from -r requirements.txt (line 45)) (0.2.3)\n",
      "Requirement already satisfied: pyarrow==17.0.0 in c:\\users\\shil6369\\documents\\github\\oii-fsds-wikipedia\\venv\\lib\\site-packages (from -r requirements.txt (line 46)) (17.0.0)\n",
      "Requirement already satisfied: Pygments==2.18.0 in c:\\users\\shil6369\\documents\\github\\oii-fsds-wikipedia\\venv\\lib\\site-packages (from -r requirements.txt (line 47)) (2.18.0)\n",
      "Requirement already satisfied: pyparsing==3.2.0 in c:\\users\\shil6369\\documents\\github\\oii-fsds-wikipedia\\venv\\lib\\site-packages (from -r requirements.txt (line 48)) (3.2.0)\n",
      "Requirement already satisfied: python-dateutil==2.9.0.post0 in c:\\users\\shil6369\\documents\\github\\oii-fsds-wikipedia\\venv\\lib\\site-packages (from -r requirements.txt (line 49)) (2.9.0.post0)\n",
      "Requirement already satisfied: pytz==2024.2 in c:\\users\\shil6369\\documents\\github\\oii-fsds-wikipedia\\venv\\lib\\site-packages (from -r requirements.txt (line 50)) (2024.2)\n",
      "Requirement already satisfied: pyzmq==26.2.0 in c:\\users\\shil6369\\documents\\github\\oii-fsds-wikipedia\\venv\\lib\\site-packages (from -r requirements.txt (line 51)) (26.2.0)\n",
      "Requirement already satisfied: regex==2024.9.11 in c:\\users\\shil6369\\documents\\github\\oii-fsds-wikipedia\\venv\\lib\\site-packages (from -r requirements.txt (line 52)) (2024.9.11)\n",
      "Requirement already satisfied: requests==2.32.3 in c:\\users\\shil6369\\documents\\github\\oii-fsds-wikipedia\\venv\\lib\\site-packages (from -r requirements.txt (line 53)) (2.32.3)\n",
      "Requirement already satisfied: rfc3986==1.5.0 in c:\\users\\shil6369\\documents\\github\\oii-fsds-wikipedia\\venv\\lib\\site-packages (from -r requirements.txt (line 54)) (1.5.0)\n",
      "Requirement already satisfied: scikit-learn==1.5.2 in c:\\users\\shil6369\\documents\\github\\oii-fsds-wikipedia\\venv\\lib\\site-packages (from -r requirements.txt (line 55)) (1.5.2)\n",
      "Requirement already satisfied: scipy==1.14.1 in c:\\users\\shil6369\\documents\\github\\oii-fsds-wikipedia\\venv\\lib\\site-packages (from -r requirements.txt (line 56)) (1.14.1)\n",
      "Requirement already satisfied: six==1.16.0 in c:\\users\\shil6369\\documents\\github\\oii-fsds-wikipedia\\venv\\lib\\site-packages (from -r requirements.txt (line 57)) (1.16.0)\n",
      "Requirement already satisfied: sniffio==1.3.1 in c:\\users\\shil6369\\documents\\github\\oii-fsds-wikipedia\\venv\\lib\\site-packages (from -r requirements.txt (line 58)) (1.3.1)\n",
      "Requirement already satisfied: soupsieve==2.6 in c:\\users\\shil6369\\documents\\github\\oii-fsds-wikipedia\\venv\\lib\\site-packages (from -r requirements.txt (line 59)) (2.6)\n",
      "Requirement already satisfied: stack-data==0.6.3 in c:\\users\\shil6369\\documents\\github\\oii-fsds-wikipedia\\venv\\lib\\site-packages (from -r requirements.txt (line 60)) (0.6.3)\n",
      "Requirement already satisfied: threadpoolctl==3.5.0 in c:\\users\\shil6369\\documents\\github\\oii-fsds-wikipedia\\venv\\lib\\site-packages (from -r requirements.txt (line 61)) (3.5.0)\n",
      "Requirement already satisfied: tornado==6.4.1 in c:\\users\\shil6369\\documents\\github\\oii-fsds-wikipedia\\venv\\lib\\site-packages (from -r requirements.txt (line 62)) (6.4.1)\n",
      "Requirement already satisfied: tqdm==4.66.5 in c:\\users\\shil6369\\documents\\github\\oii-fsds-wikipedia\\venv\\lib\\site-packages (from -r requirements.txt (line 63)) (4.66.5)\n",
      "Requirement already satisfied: traitlets==5.14.3 in c:\\users\\shil6369\\documents\\github\\oii-fsds-wikipedia\\venv\\lib\\site-packages (from -r requirements.txt (line 64)) (5.14.3)\n",
      "Requirement already satisfied: tzdata==2024.2 in c:\\users\\shil6369\\documents\\github\\oii-fsds-wikipedia\\venv\\lib\\site-packages (from -r requirements.txt (line 65)) (2024.2)\n",
      "Requirement already satisfied: urllib3==2.2.3 in c:\\users\\shil6369\\documents\\github\\oii-fsds-wikipedia\\venv\\lib\\site-packages (from -r requirements.txt (line 66)) (2.2.3)\n",
      "Requirement already satisfied: wcwidth==0.2.13 in c:\\users\\shil6369\\documents\\github\\oii-fsds-wikipedia\\venv\\lib\\site-packages (from -r requirements.txt (line 67)) (0.2.13)\n",
      "Requirement already satisfied: wordcloud==1.9.3 in c:\\users\\shil6369\\documents\\github\\oii-fsds-wikipedia\\venv\\lib\\site-packages (from -r requirements.txt (line 68)) (1.9.3)\n",
      "Requirement already satisfied: pywin32>=300 in c:\\users\\shil6369\\documents\\github\\oii-fsds-wikipedia\\venv\\lib\\site-packages (from jupyter_core==5.7.2->-r requirements.txt (line 29)) (308)\n"
     ]
    }
   ],
   "source": [
    "#from google.colab import userdata\n",
    "import os\n",
    "%load_ext autoreload\n",
    "%autoreload 2\n",
    "!pip install -r requirements.txt"
   ]
  },
  {
   "cell_type": "code",
   "execution_count": 3,
   "metadata": {},
   "outputs": [],
   "source": [
    "import pandas as pd"
   ]
  },
  {
   "cell_type": "code",
   "execution_count": 5,
   "metadata": {},
   "outputs": [
    {
     "name": "stderr",
     "output_type": "stream",
     "text": [
      "[nltk_data] Downloading package stopwords to\n",
      "[nltk_data]     C:\\Users\\shil6369\\AppData\\Roaming\\nltk_data...\n",
      "[nltk_data]   Package stopwords is already up-to-date!\n"
     ]
    }
   ],
   "source": [
    "from utils.NLP_processing import *"
   ]
  },
  {
   "cell_type": "code",
   "execution_count": 12,
   "metadata": {},
   "outputs": [
    {
     "name": "stdout",
     "output_type": "stream",
     "text": [
      "Downloading revisions for first article...\n",
      "\n",
      "Downloading revisions for second article...\n",
      "\n",
      "Converting revisions to DataFrames...\n",
      "\n",
      "Verifying DataFrame contents...\n"
     ]
    },
    {
     "ename": "FileNotFoundError",
     "evalue": "[Errno 2] No such file or directory: 'DataFrames/Luhansk_Oblast.feather'",
     "output_type": "error",
     "traceback": [
      "\u001b[1;31m---------------------------------------------------------------------------\u001b[0m",
      "\u001b[1;31mFileNotFoundError\u001b[0m                         Traceback (most recent call last)",
      "Cell \u001b[1;32mIn[12], line 21\u001b[0m\n\u001b[0;32m     19\u001b[0m \u001b[38;5;66;03m# Load and verify one of the DataFrames\u001b[39;00m\n\u001b[0;32m     20\u001b[0m \u001b[38;5;28mprint\u001b[39m(\u001b[38;5;124m\"\u001b[39m\u001b[38;5;130;01m\\n\u001b[39;00m\u001b[38;5;124mVerifying DataFrame contents...\u001b[39m\u001b[38;5;124m\"\u001b[39m)\n\u001b[1;32m---> 21\u001b[0m df \u001b[38;5;241m=\u001b[39m \u001b[43mpd\u001b[49m\u001b[38;5;241;43m.\u001b[39;49m\u001b[43mread_feather\u001b[49m\u001b[43m(\u001b[49m\u001b[38;5;124;43mf\u001b[39;49m\u001b[38;5;124;43m\"\u001b[39;49m\u001b[38;5;124;43mDataFrames/\u001b[39;49m\u001b[38;5;132;43;01m{\u001b[39;49;00m\u001b[43marticle2\u001b[49m\u001b[38;5;132;43;01m}\u001b[39;49;00m\u001b[38;5;124;43m.feather\u001b[39;49m\u001b[38;5;124;43m\"\u001b[39;49m\u001b[43m)\u001b[49m\n\u001b[0;32m     23\u001b[0m \u001b[38;5;66;03m# Display basic information about the DataFrame\u001b[39;00m\n\u001b[0;32m     24\u001b[0m \u001b[38;5;28mprint\u001b[39m(\u001b[38;5;124m\"\u001b[39m\u001b[38;5;130;01m\\n\u001b[39;00m\u001b[38;5;124mDataFrame Info:\u001b[39m\u001b[38;5;124m\"\u001b[39m)\n",
      "File \u001b[1;32mc:\\Users\\shil6369\\Documents\\GitHub\\oii-fsds-wikipedia\\venv\\Lib\\site-packages\\pandas\\io\\feather_format.py:120\u001b[0m, in \u001b[0;36mread_feather\u001b[1;34m(path, columns, use_threads, storage_options, dtype_backend)\u001b[0m\n\u001b[0;32m    116\u001b[0m \u001b[38;5;28;01mimport\u001b[39;00m \u001b[38;5;21;01mpandas\u001b[39;00m\u001b[38;5;21;01m.\u001b[39;00m\u001b[38;5;21;01mcore\u001b[39;00m\u001b[38;5;21;01m.\u001b[39;00m\u001b[38;5;21;01marrays\u001b[39;00m\u001b[38;5;21;01m.\u001b[39;00m\u001b[38;5;21;01marrow\u001b[39;00m\u001b[38;5;21;01m.\u001b[39;00m\u001b[38;5;21;01mextension_types\u001b[39;00m  \u001b[38;5;66;03m# pyright: ignore[reportUnusedImport] # noqa: F401\u001b[39;00m\n\u001b[0;32m    118\u001b[0m check_dtype_backend(dtype_backend)\n\u001b[1;32m--> 120\u001b[0m \u001b[38;5;28;01mwith\u001b[39;00m \u001b[43mget_handle\u001b[49m\u001b[43m(\u001b[49m\n\u001b[0;32m    121\u001b[0m \u001b[43m    \u001b[49m\u001b[43mpath\u001b[49m\u001b[43m,\u001b[49m\u001b[43m \u001b[49m\u001b[38;5;124;43m\"\u001b[39;49m\u001b[38;5;124;43mrb\u001b[39;49m\u001b[38;5;124;43m\"\u001b[39;49m\u001b[43m,\u001b[49m\u001b[43m \u001b[49m\u001b[43mstorage_options\u001b[49m\u001b[38;5;241;43m=\u001b[39;49m\u001b[43mstorage_options\u001b[49m\u001b[43m,\u001b[49m\u001b[43m \u001b[49m\u001b[43mis_text\u001b[49m\u001b[38;5;241;43m=\u001b[39;49m\u001b[38;5;28;43;01mFalse\u001b[39;49;00m\n\u001b[0;32m    122\u001b[0m \u001b[43m\u001b[49m\u001b[43m)\u001b[49m \u001b[38;5;28;01mas\u001b[39;00m handles:\n\u001b[0;32m    123\u001b[0m     \u001b[38;5;28;01mif\u001b[39;00m dtype_backend \u001b[38;5;129;01mis\u001b[39;00m lib\u001b[38;5;241m.\u001b[39mno_default \u001b[38;5;129;01mand\u001b[39;00m \u001b[38;5;129;01mnot\u001b[39;00m using_pyarrow_string_dtype():\n\u001b[0;32m    124\u001b[0m         \u001b[38;5;28;01mreturn\u001b[39;00m feather\u001b[38;5;241m.\u001b[39mread_feather(\n\u001b[0;32m    125\u001b[0m             handles\u001b[38;5;241m.\u001b[39mhandle, columns\u001b[38;5;241m=\u001b[39mcolumns, use_threads\u001b[38;5;241m=\u001b[39m\u001b[38;5;28mbool\u001b[39m(use_threads)\n\u001b[0;32m    126\u001b[0m         )\n",
      "File \u001b[1;32mc:\\Users\\shil6369\\Documents\\GitHub\\oii-fsds-wikipedia\\venv\\Lib\\site-packages\\pandas\\io\\common.py:882\u001b[0m, in \u001b[0;36mget_handle\u001b[1;34m(path_or_buf, mode, encoding, compression, memory_map, is_text, errors, storage_options)\u001b[0m\n\u001b[0;32m    873\u001b[0m         handle \u001b[38;5;241m=\u001b[39m \u001b[38;5;28mopen\u001b[39m(\n\u001b[0;32m    874\u001b[0m             handle,\n\u001b[0;32m    875\u001b[0m             ioargs\u001b[38;5;241m.\u001b[39mmode,\n\u001b[1;32m   (...)\u001b[0m\n\u001b[0;32m    878\u001b[0m             newline\u001b[38;5;241m=\u001b[39m\u001b[38;5;124m\"\u001b[39m\u001b[38;5;124m\"\u001b[39m,\n\u001b[0;32m    879\u001b[0m         )\n\u001b[0;32m    880\u001b[0m     \u001b[38;5;28;01melse\u001b[39;00m:\n\u001b[0;32m    881\u001b[0m         \u001b[38;5;66;03m# Binary mode\u001b[39;00m\n\u001b[1;32m--> 882\u001b[0m         handle \u001b[38;5;241m=\u001b[39m \u001b[38;5;28;43mopen\u001b[39;49m\u001b[43m(\u001b[49m\u001b[43mhandle\u001b[49m\u001b[43m,\u001b[49m\u001b[43m \u001b[49m\u001b[43mioargs\u001b[49m\u001b[38;5;241;43m.\u001b[39;49m\u001b[43mmode\u001b[49m\u001b[43m)\u001b[49m\n\u001b[0;32m    883\u001b[0m     handles\u001b[38;5;241m.\u001b[39mappend(handle)\n\u001b[0;32m    885\u001b[0m \u001b[38;5;66;03m# Convert BytesIO or file objects passed with an encoding\u001b[39;00m\n",
      "\u001b[1;31mFileNotFoundError\u001b[0m: [Errno 2] No such file or directory: 'DataFrames/Luhansk_Oblast.feather'"
     ]
    }
   ],
   "source": [
    "# Define articles we want to download\n",
    "article1 = \"Луганская_область\"\n",
    "article2 = \"Luhansk_Oblast\"\n",
    "\n",
    "# Create necessary directories if they don't exist\n",
    "os.makedirs(\"data\", exist_ok=True)\n",
    "os.makedirs(\"DataFrames\", exist_ok=True)\n",
    "\n",
    "# Download revisions for both articles\n",
    "print(\"Downloading revisions for first article...\")\n",
    "os.system(f'python download_wiki_revisions_language.py \"{article1}\" --lang \"ru\" --include-text')\n",
    "print(\"\\nDownloading revisions for second article...\")\n",
    "os.system(f'python download_wiki_revisions_language.py \"{article2}\" --include-text')\n",
    "\n",
    "# Convert all downloaded revisions to DataFrames\n",
    "print(\"\\nConverting revisions to DataFrames...\")\n",
    "os.system('python xml_to_dataframe.py --data-dir ./data --output-dir ./DataFrames')\n",
    "\n",
    "# Load and verify one of the DataFrames\n",
    "print(\"\\nVerifying DataFrame contents...\")\n",
    "df = pd.read_feather(f\"DataFrames/{article2}.feather\")\n",
    "\n",
    "# Display basic information about the DataFrame\n",
    "print(\"\\nDataFrame Info:\")\n",
    "print(df.info())\n",
    "\n",
    "print(\"\\nFirst few rows:\")\n",
    "print(df.head())\n",
    "\n",
    "# Display some basic statistics\n",
    "print(\"\\nBasic statistics:\")\n",
    "print(f\"Total number of revisions: {len(df)}\")\n",
    "print(f\"Date range: from {df['timestamp'].min()} to {df['timestamp'].max()}\")\n",
    "print(f\"Number of unique editors: {df['username'].nunique()}\")"
   ]
  },
  {
   "cell_type": "code",
   "execution_count": 6,
   "metadata": {},
   "outputs": [],
   "source": [
    "df_ru = pd.read_feather('DataFrames/Luhansk_Oblast.feather')\n",
    "df_en = pd.read_feather('DataFrames/Луганская_область.feather')"
   ]
  },
  {
   "cell_type": "code",
   "execution_count": 7,
   "metadata": {},
   "outputs": [
    {
     "data": {
      "text/plain": [
       "Index(['index', 'revision_id', 'timestamp', 'username', 'userid', 'comment',\n",
       "       'text_length', 'year', 'month'],\n",
       "      dtype='object')"
      ]
     },
     "execution_count": 7,
     "metadata": {},
     "output_type": "execute_result"
    }
   ],
   "source": [
    "df_en.columns"
   ]
  }
 ],
 "metadata": {
  "kernelspec": {
   "display_name": "venv",
   "language": "python",
   "name": "python3"
  },
  "language_info": {
   "codemirror_mode": {
    "name": "ipython",
    "version": 3
   },
   "file_extension": ".py",
   "mimetype": "text/x-python",
   "name": "python",
   "nbconvert_exporter": "python",
   "pygments_lexer": "ipython3",
   "version": "3.12.7"
  }
 },
 "nbformat": 4,
 "nbformat_minor": 2
}
